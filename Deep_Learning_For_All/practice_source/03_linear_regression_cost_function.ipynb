{
 "cells": [
  {
   "cell_type": "code",
   "execution_count": 18,
   "metadata": {},
   "outputs": [
    {
     "name": "stdout",
     "output_type": "stream",
     "text": [
      "    0 | 18332.2188 |  47.398293\n",
      "   10 |  3855.3564 |  22.638384\n",
      "   20 |   810.9046 |  11.283927\n",
      "   30 |   170.6631 |   6.076973\n",
      "   40 |    36.0217 |   3.689155\n",
      "   50 |     7.7069 |   2.594144\n",
      "   60 |     1.7524 |   2.091991\n",
      "   70 |     0.5001 |   1.861713\n",
      "   80 |     0.2368 |   1.756112\n",
      "   90 |     0.1814 |   1.707684\n",
      "  100 |     0.1698 |   1.685477\n",
      "  110 |     0.1673 |   1.675292\n",
      "  120 |     0.1668 |   1.670622\n",
      "  130 |     0.1667 |   1.668481\n",
      "  140 |     0.1667 |   1.667498\n",
      "  150 |     0.1667 |   1.667048\n",
      "  160 |     0.1667 |   1.666842\n",
      "  170 |     0.1667 |   1.666747\n",
      "  180 |     0.1667 |   1.666703\n",
      "  190 |     0.1667 |   1.666684\n",
      "  200 |     0.1667 |   1.666674\n",
      "  210 |     0.1667 |   1.666670\n",
      "  220 |     0.1667 |   1.666668\n",
      "  230 |     0.1667 |   1.666667\n",
      "  240 |     0.1667 |   1.666667\n",
      "  250 |     0.1667 |   1.666667\n",
      "  260 |     0.1667 |   1.666667\n",
      "  270 |     0.1667 |   1.666667\n",
      "  280 |     0.1667 |   1.666667\n",
      "  290 |     0.1667 |   1.666667\n"
     ]
    }
   ],
   "source": [
    "import numpy as np\n",
    "import tensorflow as tf\n",
    "\n",
    "tf.random.set_seed(0)\n",
    "\n",
    "X = np.array([1., 2., 3., 4.])\n",
    "Y = np.array([1., 3., 5., 7.])\n",
    "\n",
    "W = tf.Variable(tf.random.normal([1], -100., 100.))\n",
    "# W = tf.Variable([5.0])\n",
    "\n",
    "\n",
    "for step in range(300):\n",
    "    hypothesis = W * X\n",
    "    cost = tf.reduce_mean(tf.square(hypothesis - Y))\n",
    "\n",
    "    learning_rate = 0.01\n",
    "    gradient = tf.reduce_mean(tf.multiply(tf.multiply(W, X) - Y, X))\n",
    "    descent = W - tf.multiply(learning_rate, gradient)\n",
    "    W.assign(descent)\n",
    "    \n",
    "    if step % 10 == 0:\n",
    "        print(\"{:5} | {:10.4f} | {:10.6f}\".format(step, cost.numpy(), W.numpy()[0]))"
   ]
  },
  {
   "cell_type": "code",
   "execution_count": null,
   "metadata": {},
   "outputs": [],
   "source": []
  }
 ],
 "metadata": {
  "kernelspec": {
   "display_name": "Python 3",
   "language": "python",
   "name": "python3"
  },
  "language_info": {
   "codemirror_mode": {
    "name": "ipython",
    "version": 3
   },
   "file_extension": ".py",
   "mimetype": "text/x-python",
   "name": "python",
   "nbconvert_exporter": "python",
   "pygments_lexer": "ipython3",
   "version": "3.8.6"
  }
 },
 "nbformat": 4,
 "nbformat_minor": 4
}

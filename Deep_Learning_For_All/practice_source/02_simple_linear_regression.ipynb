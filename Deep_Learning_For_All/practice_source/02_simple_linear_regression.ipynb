{
 "cells": [
  {
   "cell_type": "code",
   "execution_count": 31,
   "metadata": {},
   "outputs": [
    {
     "name": "stdout",
     "output_type": "stream",
     "text": [
      "tf.Tensor(2.5, shape=(), dtype=float32)\n",
      "tf.Tensor([ 1.  4.  9. 16.], shape=(4,), dtype=float32)\n",
      "Epochs|W         |b         |cost      \n",
      "     0|    2.4520|    0.3760| 45.660004\n",
      "    10|    1.1036|    0.0034|  0.206336\n",
      "    20|    1.0128|   -0.0209|  0.001026\n",
      "    30|    1.0065|   -0.0218|  0.000093\n",
      "    40|    1.0059|   -0.0212|  0.000083\n",
      "    50|    1.0057|   -0.0205|  0.000077\n",
      "    60|    1.0055|   -0.0198|  0.000072\n",
      "    70|    1.0053|   -0.0192|  0.000067\n",
      "    80|    1.0051|   -0.0185|  0.000063\n",
      "    90|    1.0050|   -0.0179|  0.000059\n",
      "   100|    1.0048|   -0.0173|  0.000055\n"
     ]
    }
   ],
   "source": [
    "import tensorflow as tf\n",
    "\n",
    "x_data = [1, 2, 3, 4, 5]\n",
    "y_data = [1, 2, 3, 4, 5]\n",
    "\n",
    "# 이거슨 임의(Random) 변수\n",
    "W = tf.Variable(2.9)\n",
    "b = tf.Variable(0.5)\n",
    "\n",
    "# 평균\n",
    "v = [1., 2., 3., 4.]\n",
    "print(tf.reduce_mean(v))\n",
    "\n",
    "# 제곱\n",
    "print(tf.square(v))\n",
    "\n",
    "learning_rate = 0.01\n",
    "\n",
    "print(\"{:6}|{:10}|{:10}|{:10}\".format( \"Epochs\", \"W\", \"b\", \"cost\"))\n",
    "for i in range(100 + 1):\n",
    "    with tf.GradientTape() as tape:\n",
    "        hypothesis = W * x_data + b\n",
    "        cost = tf.reduce_mean(tf.square(hypothesis - y_data))\n",
    "        W_grad, b_grad = tape.gradient(cost, [W, b])\n",
    "\n",
    "    W.assign_sub(learning_rate * W_grad)\n",
    "    b.assign_sub(learning_rate * b_grad)\n",
    "    if i % 10 == 0:\n",
    "        print(\"{:6}|{:10.4f}|{:10.4f}|{:10.6f}\".format( i, W.numpy(), b.numpy(), cost.numpy()))\n",
    "\n",
    "\n"
   ]
  }
 ],
 "metadata": {
  "kernelspec": {
   "display_name": "Python 3",
   "language": "python",
   "name": "python3"
  },
  "language_info": {
   "codemirror_mode": {
    "name": "ipython",
    "version": 3
   },
   "file_extension": ".py",
   "mimetype": "text/x-python",
   "name": "python",
   "nbconvert_exporter": "python",
   "pygments_lexer": "ipython3",
   "version": "3.8.6"
  }
 },
 "nbformat": 4,
 "nbformat_minor": 4
}
